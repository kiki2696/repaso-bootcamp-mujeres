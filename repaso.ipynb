{
 "cells": [
  {
   "cell_type": "markdown",
   "metadata": {},
   "source": [
    "# Condicionales \n",
    "\n",
    "## Challenge 1 - 15 min\n",
    "Crear un programa que pregunte al usuario por su edad y determine si puede comprar y consumir alcohol\n",
    "En el caso en el que su edad sea menor a 18 imprimir \"solo jugo ades\"\n",
    "En el caso de que tenga entre 18 y 21 imprimir \"podes tomar pero no comprar\"\n",
    "En el caso de que tenga mas de 21 imprimir \"hace lo que quieras kp\"\n",
    "\n",
    "OBS: Siempre que sea mayor de edad verificar si tiene cedula antes de imprimir el mensaje"
   ]
  },
  {
   "cell_type": "code",
   "execution_count": 8,
   "metadata": {},
   "outputs": [],
   "source": [
    "# preguntar al usuario por su edad\n",
    "edad = int(input('Ingrese su edad'))\n",
    "# verificar si tiene cedula\n",
    "cedula = False\n",
    "\n",
    "# verificar si es menor de edad\n",
    "menor_de_edad = edad < 18\n",
    "\n",
    "if edad < 18:\n",
    "    print('Solo jugo Ades')\n",
    "elif edad >= 18 and edad <=21: \n",
    "    if cedula==True:\n",
    "        print('Podes tomar pero no podes comprar')\n",
    "else:\n",
    "    if cedula==True:   \n",
    "        print('Hace lo que quieras kp')\n",
    "\n",
    "\n",
    "\n"
   ]
  },
  {
   "cell_type": "markdown",
   "metadata": {},
   "source": [
    "# While \n",
    "## Challenge 2 - 15 min\n",
    "\n",
    "Crear la tabla del 2 utilizando un bucle while.\n",
    "\n",
    "Resultado:\n",
    "\n",
    "2 x 1 = 2\n",
    "\n",
    "2 x 2 = 4\n",
    "\n",
    "2 x 3 = 6\n",
    "\n",
    "2 x 4 = 8\n",
    "\n",
    "2 x 5 = 10\n",
    "\n",
    "2 x 6 = 12\n",
    "\n",
    "2 x 7 = 14\n",
    "\n",
    "2 x 8 = 16\n",
    "\n",
    "2 x 9 = 18\n",
    "\n",
    "2 x 10 = 20"
   ]
  },
  {
   "cell_type": "code",
   "execution_count": 9,
   "metadata": {},
   "outputs": [
    {
     "name": "stdout",
     "output_type": "stream",
     "text": [
      "2\n",
      "4\n",
      "6\n",
      "8\n",
      "10\n",
      "12\n",
      "14\n",
      "16\n",
      "18\n",
      "20\n"
     ]
    }
   ],
   "source": [
    "numero =2\n",
    "resultado =2*1\n",
    "print(resultado)\n",
    "resultado =2*2\n",
    "print(resultado)\n",
    "resultado =2*3\n",
    "print(resultado)\n",
    "resultado =2*4\n",
    "print(resultado)\n",
    "resultado =2*5\n",
    "print(resultado)\n",
    "resultado =2*6\n",
    "print(resultado)\n",
    "resultado =2*7\n",
    "print(resultado)\n",
    "resultado =2*8\n",
    "print(resultado)\n",
    "resultado =2*9\n",
    "print(resultado)\n",
    "resultado =2*10\n",
    "print(resultado)\n",
    "\n",
    "\n"
   ]
  },
  {
   "cell_type": "code",
   "execution_count": 15,
   "metadata": {},
   "outputs": [
    {
     "name": "stdout",
     "output_type": "stream",
     "text": [
      "2 x 1 = 2\n",
      "2 x 2 = 4\n",
      "2 x 3 = 6\n",
      "2 x 4 = 8\n",
      "2 x 5 = 10\n",
      "2 x 6 = 12\n",
      "2 x 7 = 14\n",
      "2 x 8 = 16\n",
      "2 x 9 = 18\n",
      "2 x 10 = 20\n",
      "------------------------\n",
      "2 x 1 = 2\n",
      "2 x 2 = 4\n",
      "2 x 3 = 6\n",
      "2 x 4 = 8\n",
      "2 x 5 = 10\n",
      "2 x 6 = 12\n",
      "2 x 7 = 14\n",
      "2 x 8 = 16\n",
      "2 x 9 = 18\n",
      "2 x 10 = 20\n"
     ]
    }
   ],
   "source": [
    "#Inicializamos el contador\n",
    "contador=1\n",
    "\n",
    "#Usamos un ciclo condicional While para hacer el calculo e immprimir\n",
    "while contador <=10:\n",
    "    resultado=2*contador\n",
    "    print(f'2 x {contador} = {resultado}')\n",
    "    contador =contador+1\n",
    "print('------------------------')\n",
    "\n",
    "for iterador in range(10):\n",
    "    resultado=2*(iterador+1)\n",
    "    print(f'2 x {iterador+1} = {resultado}')\n",
    "    "
   ]
  },
  {
   "cell_type": "markdown",
   "metadata": {},
   "source": [
    "## Challenge 4 - 20 min\n",
    "\n",
    "Utilice un bucle for para iterar a través de una lista de números del 1 al 10. Por cada número, verifica si es par o impar e imprima un mensaje correspondiente.\n",
    "\n",
    "Resultado esperado:\n",
    "1 es impar\n",
    "2 es par\n",
    "3 es impar\n",
    "4 es par\n",
    ".\n",
    ".\n",
    ".\n"
   ]
  },
  {
   "cell_type": "code",
   "execution_count": null,
   "metadata": {},
   "outputs": [
    {
     "name": "stdout",
     "output_type": "stream",
     "text": [
      "5 es mukktiplo\n",
      "10 es mukktiplo\n",
      "15 es mukktiplo\n",
      "4 es impar\n",
      "5 es mukktiplo\n",
      "6 es impar\n",
      "7 es impar\n",
      "8 es impar\n",
      "9 es impar\n",
      "10 es mukktiplo\n"
     ]
    }
   ],
   "source": [
    "# Creamos una lista del 1 al 10\n",
    "numeros = [1, 2, 3, 4, 5, 6, 7, 8, 9, 10]\n",
    "\n",
    "for numero in numeros:\n",
    "    if numero % 2 == 0:\n",
    "        print(f'{numero} es multiplo de 5')\n",
    "    else:\n",
    "        print(f'{numero} no es multiplo de 5')\n",
    "\n",
    "        \n",
    "\n",
    "\n"
   ]
  },
  {
   "cell_type": "code",
   "execution_count": 1,
   "metadata": {},
   "outputs": [
    {
     "name": "stdout",
     "output_type": "stream",
     "text": [
      "1 es impar\n",
      "2 es par\n",
      "3 es impar\n",
      "4 es par\n",
      "5 es impar\n",
      "6 es par\n",
      "7 es impar\n",
      "8 es par\n",
      "9 es impar\n",
      "10 es par\n"
     ]
    }
   ],
   "source": [
    "for iterador in range (1, 11): \n",
    "    if iterador % 2 == 0:\n",
    "        print (f\"{iterador} es par\")\n",
    "    else:\n",
    "        print (f\"{iterador} es impar\")"
   ]
  },
  {
   "cell_type": "markdown",
   "metadata": {},
   "source": [
    "## Challenge 5 - 20 min\n",
    "\n",
    "Escribir un programa que pregunte al usuario por una palabra y una letra. Imprimir cuantas veces se repite la letra en la palabra."
   ]
  },
  {
   "cell_type": "code",
   "execution_count": 45,
   "metadata": {},
   "outputs": [
    {
     "name": "stdout",
     "output_type": "stream",
     "text": [
      "La letra \"a\" se repite 3 veces en la palabra \"banana\" \n",
      "('Hola soy tutu', 'banana')\n"
     ]
    }
   ],
   "source": [
    "def cantidad_letra_palabra(palabra,letra):\n",
    "    contador = 0\n",
    "    for i in palabra:\n",
    "        if i == letra:\n",
    "            contador = contador + 1\n",
    "    print(f'La letra \"{letra}\" se repite {contador} veces en la palabra \"{palabra}\" ')\n",
    "    return 'Hola soy tutu',palabra\n",
    "    \n",
    "\n",
    "palabra_ingresada ='banana'\n",
    "\n",
    "saludo= cantidad_letra_palabra(palabra_ingresada,'a')\n",
    "print(saludo)\n",
    "\n",
    "\n"
   ]
  },
  {
   "cell_type": "code",
   "execution_count": 35,
   "metadata": {},
   "outputs": [
    {
     "name": "stdout",
     "output_type": "stream",
     "text": [
      "la letra r se repite 0 veces en perro\n",
      "la letra r se repite 1 veces en perro\n",
      "La letra r se encuentra 2 veces en la palabra perro\n"
     ]
    }
   ],
   "source": [
    "palabra = input(\"Ingrese una palabra\")\n",
    "letra = input(\"Ingrese una letra\")\n",
    "\n",
    "letras= 0\n",
    "\n",
    "for cantidad_letras in palabra:\n",
    "    if letra == cantidad_letras:\n",
    "        print(f\"la letra {letra} se repite {letras} veces en {palabra}\")\n",
    "        letras= letras+1\n",
    "\n",
    "    \n",
    "\n",
    "print(f\"La letra {letra} se encuentra {letras} veces en la palabra {palabra}\") "
   ]
  },
  {
   "cell_type": "code",
   "execution_count": 36,
   "metadata": {},
   "outputs": [
    {
     "name": "stdout",
     "output_type": "stream",
     "text": [
      "La letra e se repite 3 veces en la palabra\n"
     ]
    }
   ],
   "source": [
    "palabra = input (\"Ingrese una palabra\")\n",
    "letra = input (\"ingrese una letra\")\n",
    "\n",
    "\n",
    "iguales = []\n",
    "\n",
    "for i in palabra: \n",
    "    if i == letra :\n",
    "        iguales.append(i) \n",
    "cantidad = (len (iguales))\n",
    "print(f\"La letra {letra} se repite {cantidad} veces en la palabra\")"
   ]
  }
 ],
 "metadata": {
  "kernelspec": {
   "display_name": "Python 3",
   "language": "python",
   "name": "python3"
  },
  "language_info": {
   "codemirror_mode": {
    "name": "ipython",
    "version": 3
   },
   "file_extension": ".py",
   "mimetype": "text/x-python",
   "name": "python",
   "nbconvert_exporter": "python",
   "pygments_lexer": "ipython3",
   "version": "3.10.7"
  }
 },
 "nbformat": 4,
 "nbformat_minor": 2
}
